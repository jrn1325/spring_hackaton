{
 "cells": [
  {
   "cell_type": "code",
   "execution_count": 93,
   "metadata": {
    "collapsed": true
   },
   "outputs": [],
   "source": [
    "import numpy as np\n",
    "import pandas as pd\n",
    "import seaborn as sns\n",
    "from sklearn.model_selection import train_test_split\n",
    "from sklearn.preprocessing import StandardScaler\n",
    "from sklearn.linear_model import LinearRegression\n",
    "from sklearn.ensemble import RandomForestRegressor\n",
    "from sklearn.metrics import mean_squared_error, mean_absolute_error\n",
    "from scipy.stats import pearsonr\n",
    "from sklearn.ensemble import RandomForestRegressor\n",
    "from sklearn.model_selection import GridSearchCV\n",
    "import matplotlib.pyplot as plt\n",
    "import json\n",
    "from joblib import dump, load"
   ]
  },
  {
   "cell_type": "code",
   "execution_count": 94,
   "outputs": [],
   "source": [
    "# load the dataset into a Pandas DataFrame\n",
    "df = pd.read_csv('./bio_features.csv', index_col=0)"
   ],
   "metadata": {
    "collapsed": false
   }
  },
  {
   "cell_type": "code",
   "execution_count": 95,
   "outputs": [],
   "source": [
    "df.shape"
   ],
   "metadata": {
    "collapsed": false
   }
  },
  {
   "cell_type": "code",
   "execution_count": 96,
   "outputs": [],
   "source": [
    "df.head()"
   ],
   "metadata": {
    "collapsed": false
   }
  },
  {
   "cell_type": "code",
   "execution_count": 97,
   "outputs": [],
   "source": [
    "# drop the columns that are not needed\n",
    "df = df.drop([\"s_id\", \"t_id\"], axis=1)\n",
    "\n",
    "df.shape"
   ],
   "metadata": {
    "collapsed": false
   }
  },
  {
   "cell_type": "code",
   "execution_count": 98,
   "outputs": [],
   "source": [
    "# create the correlation matrix\n",
    "corr_matrix = df.corr()\n",
    "\n",
    "# create a heatmap using seaborn\n",
    "sns.heatmap(corr_matrix, cmap='coolwarm', annot=False)"
   ],
   "metadata": {
    "collapsed": false
   }
  },
  {
   "cell_type": "code",
   "execution_count": 99,
   "outputs": [],
   "source": [
    "# extract the features and target variable\n",
    "X = df.drop([\"surprise\", \"anxiety\", \"boredom\", \"calmness\", \"comfort\"], axis=1)\n",
    "y = df[[\"surprise\", \"anxiety\", \"boredom\", \"calmness\", \"comfort\"]]"
   ],
   "metadata": {
    "collapsed": false
   }
  },
  {
   "cell_type": "code",
   "execution_count": 100,
   "outputs": [],
   "source": [
    "X.shape"
   ],
   "metadata": {
    "collapsed": false
   }
  },
  {
   "cell_type": "code",
   "execution_count": 101,
   "outputs": [],
   "source": [
    "y.shape"
   ],
   "metadata": {
    "collapsed": false
   }
  },
  {
   "cell_type": "code",
   "execution_count": 102,
   "outputs": [],
   "source": [
    "# split the data into training and testing sets\n",
    "X_train, X_test, y_train, y_test = train_test_split(X, y, test_size=0.2, random_state=42)"
   ],
   "metadata": {
    "collapsed": false
   }
  },
  {
   "cell_type": "code",
   "execution_count": 103,
   "outputs": [],
   "source": [
    "# initialize the StandardScaler object\n",
    "scaler = StandardScaler()\n",
    "\n",
    "# fit and transform the data\n",
    "X_train_scaled = scaler.fit_transform(X_train)\n",
    "X_test_scaled = scaler.transform(X_test)"
   ],
   "metadata": {
    "collapsed": false
   }
  },
  {
   "cell_type": "code",
   "execution_count": 104,
   "outputs": [],
   "source": [
    "pd.DataFrame(X_train_scaled, columns=X_train.columns).head()"
   ],
   "metadata": {
    "collapsed": false
   }
  },
  {
   "cell_type": "code",
   "execution_count": 105,
   "outputs": [],
   "source": [
    "print(\"length of X_train_scaled:\", len(X_train_scaled))\n",
    "print(\"length of y_train:\", len(y_train))\n",
    "print(\"length of X_test_scaled:\", len(X_test_scaled))\n",
    "print(\"length of y_test:\", len(y_test))"
   ],
   "metadata": {
    "collapsed": false
   }
  },
  {
   "cell_type": "code",
   "execution_count": 106,
   "outputs": [],
   "source": [
    "# Define the parameter grid for Grid Search\n",
    "param_grid = {\n",
    "    'n_estimators': [16, 100, 400]\n",
    "}\n",
    "\n",
    "# Perform Grid Search to find the best value of n_estimators\n",
    "grid_search = GridSearchCV(estimator=RandomForestRegressor(), param_grid=param_grid, cv=5, scoring='neg_mean_squared_error')\n",
    "grid_search.fit(X_train, y_train)\n",
    "\n",
    "# Print the best value of n_estimators\n",
    "print(\"Best value of n_estimators:\", grid_search.best_params_['n_estimators'])\n",
    "\n",
    "# Save the best parameters to a file\n",
    "best_params = grid_search.best_params_\n",
    "# with open('./saved_models/best_params_rf.json', 'w') as f:\n",
    "#     json.dump(best_params, f)\n",
    "\n",
    "# Evaluate the model with the best value of n_estimators on the testing set\n",
    "y_pred = grid_search.predict(X_test)"
   ],
   "metadata": {
    "collapsed": false
   }
  },
  {
   "cell_type": "code",
   "execution_count": 107,
   "outputs": [],
   "source": [
    "rf = RandomForestRegressor(n_estimators=best_params[0], random_state=42)\n",
    "rf.fit(X_train_scaled, y_train)"
   ],
   "metadata": {
    "collapsed": false
   }
  },
  {
   "cell_type": "code",
   "execution_count": null,
   "outputs": [],
   "source": [
    "# Save the model to a file\n",
    "dump(rf, './saved_models/random_forest.joblib')"
   ],
   "metadata": {
    "collapsed": false
   }
  },
  {
   "cell_type": "code",
   "execution_count": null,
   "outputs": [],
   "source": [
    "# Convert the scaled training data to a DataFrame\n",
    "X_train_scaled_df = pd.DataFrame(X_train_scaled, columns=X_train.columns)\n",
    "\n",
    "# Extract the feature names from the DataFrame columns\n",
    "feature_names = X_train_scaled_df.columns.tolist()\n",
    "\n",
    "# Get feature importances from the trained model\n",
    "importances = rf.feature_importances_\n",
    "\n",
    "# summarize feature importance\n",
    "for i,v in enumerate(importances):\n",
    " print('Feature: %0d, Score: %.5f' % (i,v))\n",
    "\n",
    "# plot feature importance\n",
    "plt.bar([x for x in range(len(importances))], importances)\n",
    "plt.show()"
   ],
   "metadata": {
    "collapsed": false
   }
  },
  {
   "cell_type": "code",
   "execution_count": null,
   "outputs": [],
   "source": [
    "# Extract the feature names from the DataFrame columns\n",
    "feature_names = X_train_scaled_df.columns.tolist()\n",
    "\n",
    "# Sort the feature importances in descending order\n",
    "indices = np.argsort(importances)[::-1]\n",
    "\n",
    "# Print the feature ranking\n",
    "print(\"Feature ranking:\")\n",
    "for f in range(X_train.shape[1]):\n",
    "    print(\"%d. %s (%f)\" % (f + 1, feature_names[indices[f]], importances[indices[f]]))\n",
    "\n",
    "# Plot the feature importances\n",
    "plt.figure()\n",
    "plt.title(\"Feature importances\")\n",
    "plt.bar(range(X_train.shape[1]), importances[indices], color=\"b\", align=\"center\")\n",
    "plt.xticks(range(X_train.shape[1]), [feature_names[i] for i in indices], rotation=45, ha='right')\n",
    "plt.xlim([-1, X_train.shape[1]])\n",
    "plt.show()"
   ],
   "metadata": {
    "collapsed": false
   }
  },
  {
   "cell_type": "code",
   "execution_count": null,
   "outputs": [],
   "source": [
    "print(\"Shape of y_pred:\", y_pred.shape)\n",
    "print(\"Shape of y_test:\", y_test.shape)"
   ],
   "metadata": {
    "collapsed": false
   }
  },
  {
   "cell_type": "code",
   "execution_count": null,
   "outputs": [],
   "source": [
    "def compute_ccc(y_test, y_pred):\n",
    "    \"\"\"\n",
    "    Compute the Concordance correlation coefficient between y_true and y_pred.\n",
    "    \"\"\"\n",
    "    mean_test = np.mean(y_test)\n",
    "    mean_pred = np.mean(y_pred)\n",
    "    var_test = np.var(y_test)\n",
    "    var_pred = np.var(y_pred)\n",
    "    covar = np.cov(y_test, y_pred)[0, 1]\n",
    "    rho_c = 2 * covar / (var_test + var_pred + (mean_test - mean_pred) ** 2)\n",
    "    return rho_c"
   ],
   "metadata": {
    "collapsed": false
   }
  },
  {
   "cell_type": "code",
   "execution_count": null,
   "outputs": [],
   "source": [
    "# evaluate the model using root mean squared error\n",
    "mse = mean_squared_error(y_test, y_pred)\n",
    "rmse = np.sqrt(mse)\n",
    "mae = mean_absolute_error(y_test, y_pred)\n",
    "ccc = compute_ccc(y_test, y_pred)\n",
    "\n",
    "print(\"Mean squared error:\", mse)\n",
    "print(\"Root Mean squared error:\", rmse)\n",
    "print(\"Mean Absolute error:\", mae)\n",
    "# print(\"Pearson correlation:\", pearsonr(y_test, y_pred))\n",
    "print(\"Concordance correlation coefficients (CCC):\")\n",
    "print(ccc)\n"
   ],
   "metadata": {
    "collapsed": false
   }
  },
  {
   "cell_type": "code",
   "execution_count": null,
   "outputs": [],
   "source": [],
   "metadata": {
    "collapsed": false
   }
  }
 ],
 "metadata": {
  "kernelspec": {
   "display_name": "Python 3",
   "language": "python",
   "name": "python3"
  },
  "language_info": {
   "codemirror_mode": {
    "name": "ipython",
    "version": 2
   },
   "file_extension": ".py",
   "mimetype": "text/x-python",
   "name": "python",
   "nbconvert_exporter": "python",
   "pygments_lexer": "ipython2",
   "version": "2.7.6"
  }
 },
 "nbformat": 4,
 "nbformat_minor": 0
}
