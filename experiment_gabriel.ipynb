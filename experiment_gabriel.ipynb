{
 "cells": [
  {
   "cell_type": "code",
   "execution_count": 128,
   "metadata": {
    "collapsed": true,
    "pycharm": {
     "name": "#%%\n"
    }
   },
   "outputs": [],
   "source": [
    "import pandas as pd\n",
    "from sklearn.model_selection import train_test_split\n",
    "from sklearn.preprocessing import StandardScaler"
   ]
  },
  {
   "cell_type": "code",
   "execution_count": 129,
   "outputs": [],
   "source": [
    "# load the dataset into a Pandas DataFrame\n",
    "df = pd.read_csv('./bio_features.csv', index_col=0)"
   ],
   "metadata": {
    "collapsed": false,
    "pycharm": {
     "name": "#%%\n"
    }
   }
  },
  {
   "cell_type": "code",
   "execution_count": 130,
   "outputs": [
    {
     "data": {
      "text/plain": "(3108, 23)"
     },
     "execution_count": 130,
     "metadata": {},
     "output_type": "execute_result"
    }
   ],
   "source": [
    "df.shape"
   ],
   "metadata": {
    "collapsed": false,
    "pycharm": {
     "name": "#%%\n"
    }
   }
  },
  {
   "cell_type": "code",
   "execution_count": 131,
   "outputs": [
    {
     "data": {
      "text/plain": "    comfort  surprise   anxiety  calmness   boredom   ECG_Rate  HRV_RMSSD   \n1  1.535117  0.515050  0.498328  0.973244  1.458194  93.672939  16.349132  \\\n2  1.824415  0.503344  1.025084  0.493311  1.401338  82.927241  37.975431   \n3  1.866221  0.453177  1.020067  1.483278  1.526756  80.265577  45.153706   \n4  1.842809  0.249164  1.483278  1.545151  1.535117  80.506441  38.199476   \n5  1.857859  0.521739  0.682274  1.406355  1.655518  76.498652  43.761592   \n\n   HRV_MeanNN   HRV_SDNN   HRV_SDSD  ...  EDA_Tonic_std  SCR_Onsets   \n1  642.222222  16.647047  16.845317  ...       0.157719    0.083333  \\\n2  724.500000  48.703183  39.168500  ...       0.068540    0.083333   \n3  750.400000  56.097874  46.798140  ...       0.067606    0.166667   \n4  745.500000  52.028197  39.292796  ...       0.054674    0.083333   \n5  785.142857  77.426747  43.100360  ...       0.347407    0.250000   \n\n   SCR_Magnitude  SCR_Amplitude_Mean  SCR_RiseTime_Mean   \n1       0.319789            0.000213           0.000715  \\\n2       0.495892            0.000331           0.002347   \n3       0.713099            0.000665           0.000491   \n4       0.080493            0.000054           0.000176   \n5       2.947860            0.002855           0.002752   \n\n   SCR_RecoveryTime_Mean  Pupil_Mean  Pupil_Std  s_id  t_id  \n1               0.000181   50.107703   4.686173   P05     2  \n2               0.000149   51.535008   3.995601   P05     2  \n3               0.000128   50.089017   4.202678   P05     2  \n4               0.000069   47.986345   5.933136   P05     2  \n5               0.000432   49.469538   4.686228   P05     2  \n\n[5 rows x 23 columns]",
      "text/html": "<div>\n<style scoped>\n    .dataframe tbody tr th:only-of-type {\n        vertical-align: middle;\n    }\n\n    .dataframe tbody tr th {\n        vertical-align: top;\n    }\n\n    .dataframe thead th {\n        text-align: right;\n    }\n</style>\n<table border=\"1\" class=\"dataframe\">\n  <thead>\n    <tr style=\"text-align: right;\">\n      <th></th>\n      <th>comfort</th>\n      <th>surprise</th>\n      <th>anxiety</th>\n      <th>calmness</th>\n      <th>boredom</th>\n      <th>ECG_Rate</th>\n      <th>HRV_RMSSD</th>\n      <th>HRV_MeanNN</th>\n      <th>HRV_SDNN</th>\n      <th>HRV_SDSD</th>\n      <th>...</th>\n      <th>EDA_Tonic_std</th>\n      <th>SCR_Onsets</th>\n      <th>SCR_Magnitude</th>\n      <th>SCR_Amplitude_Mean</th>\n      <th>SCR_RiseTime_Mean</th>\n      <th>SCR_RecoveryTime_Mean</th>\n      <th>Pupil_Mean</th>\n      <th>Pupil_Std</th>\n      <th>s_id</th>\n      <th>t_id</th>\n    </tr>\n  </thead>\n  <tbody>\n    <tr>\n      <th>1</th>\n      <td>1.535117</td>\n      <td>0.515050</td>\n      <td>0.498328</td>\n      <td>0.973244</td>\n      <td>1.458194</td>\n      <td>93.672939</td>\n      <td>16.349132</td>\n      <td>642.222222</td>\n      <td>16.647047</td>\n      <td>16.845317</td>\n      <td>...</td>\n      <td>0.157719</td>\n      <td>0.083333</td>\n      <td>0.319789</td>\n      <td>0.000213</td>\n      <td>0.000715</td>\n      <td>0.000181</td>\n      <td>50.107703</td>\n      <td>4.686173</td>\n      <td>P05</td>\n      <td>2</td>\n    </tr>\n    <tr>\n      <th>2</th>\n      <td>1.824415</td>\n      <td>0.503344</td>\n      <td>1.025084</td>\n      <td>0.493311</td>\n      <td>1.401338</td>\n      <td>82.927241</td>\n      <td>37.975431</td>\n      <td>724.500000</td>\n      <td>48.703183</td>\n      <td>39.168500</td>\n      <td>...</td>\n      <td>0.068540</td>\n      <td>0.083333</td>\n      <td>0.495892</td>\n      <td>0.000331</td>\n      <td>0.002347</td>\n      <td>0.000149</td>\n      <td>51.535008</td>\n      <td>3.995601</td>\n      <td>P05</td>\n      <td>2</td>\n    </tr>\n    <tr>\n      <th>3</th>\n      <td>1.866221</td>\n      <td>0.453177</td>\n      <td>1.020067</td>\n      <td>1.483278</td>\n      <td>1.526756</td>\n      <td>80.265577</td>\n      <td>45.153706</td>\n      <td>750.400000</td>\n      <td>56.097874</td>\n      <td>46.798140</td>\n      <td>...</td>\n      <td>0.067606</td>\n      <td>0.166667</td>\n      <td>0.713099</td>\n      <td>0.000665</td>\n      <td>0.000491</td>\n      <td>0.000128</td>\n      <td>50.089017</td>\n      <td>4.202678</td>\n      <td>P05</td>\n      <td>2</td>\n    </tr>\n    <tr>\n      <th>4</th>\n      <td>1.842809</td>\n      <td>0.249164</td>\n      <td>1.483278</td>\n      <td>1.545151</td>\n      <td>1.535117</td>\n      <td>80.506441</td>\n      <td>38.199476</td>\n      <td>745.500000</td>\n      <td>52.028197</td>\n      <td>39.292796</td>\n      <td>...</td>\n      <td>0.054674</td>\n      <td>0.083333</td>\n      <td>0.080493</td>\n      <td>0.000054</td>\n      <td>0.000176</td>\n      <td>0.000069</td>\n      <td>47.986345</td>\n      <td>5.933136</td>\n      <td>P05</td>\n      <td>2</td>\n    </tr>\n    <tr>\n      <th>5</th>\n      <td>1.857859</td>\n      <td>0.521739</td>\n      <td>0.682274</td>\n      <td>1.406355</td>\n      <td>1.655518</td>\n      <td>76.498652</td>\n      <td>43.761592</td>\n      <td>785.142857</td>\n      <td>77.426747</td>\n      <td>43.100360</td>\n      <td>...</td>\n      <td>0.347407</td>\n      <td>0.250000</td>\n      <td>2.947860</td>\n      <td>0.002855</td>\n      <td>0.002752</td>\n      <td>0.000432</td>\n      <td>49.469538</td>\n      <td>4.686228</td>\n      <td>P05</td>\n      <td>2</td>\n    </tr>\n  </tbody>\n</table>\n<p>5 rows × 23 columns</p>\n</div>"
     },
     "execution_count": 131,
     "metadata": {},
     "output_type": "execute_result"
    }
   ],
   "source": [
    "df.head()"
   ],
   "metadata": {
    "collapsed": false,
    "pycharm": {
     "name": "#%%\n"
    }
   }
  },
  {
   "cell_type": "code",
   "execution_count": 132,
   "outputs": [
    {
     "data": {
      "text/plain": "(3108, 21)"
     },
     "execution_count": 132,
     "metadata": {},
     "output_type": "execute_result"
    }
   ],
   "source": [
    "# drop the columns that are not needed\n",
    "df = df.drop([\"s_id\", \"t_id\"], axis=1)\n",
    "\n",
    "df.shape"
   ],
   "metadata": {
    "collapsed": false,
    "pycharm": {
     "name": "#%%\n"
    }
   }
  },
  {
   "cell_type": "code",
   "execution_count": 133,
   "outputs": [],
   "source": [
    "# extract the features and target variable\n",
    "X = df.drop([\"surprise\", \"anxiety\", \"boredom\", \"calmness\", \"comfort\"], axis=1)\n",
    "y = df[[\"surprise\", \"anxiety\", \"boredom\", \"calmness\", \"comfort\"]]"
   ],
   "metadata": {
    "collapsed": false,
    "pycharm": {
     "name": "#%%\n"
    }
   }
  },
  {
   "cell_type": "code",
   "execution_count": 134,
   "outputs": [
    {
     "data": {
      "text/plain": "(3108, 16)"
     },
     "execution_count": 134,
     "metadata": {},
     "output_type": "execute_result"
    }
   ],
   "source": [
    "X.shape"
   ],
   "metadata": {
    "collapsed": false,
    "pycharm": {
     "name": "#%%\n"
    }
   }
  },
  {
   "cell_type": "code",
   "execution_count": 135,
   "outputs": [
    {
     "data": {
      "text/plain": "(3108, 5)"
     },
     "execution_count": 135,
     "metadata": {},
     "output_type": "execute_result"
    }
   ],
   "source": [
    "y.shape"
   ],
   "metadata": {
    "collapsed": false,
    "pycharm": {
     "name": "#%%\n"
    }
   }
  },
  {
   "cell_type": "code",
   "execution_count": 136,
   "outputs": [],
   "source": [
    "# split the data into training and testing sets\n",
    "X_train, X_test, y_train, y_test = train_test_split(X, y, test_size=0.2, random_state=42)"
   ],
   "metadata": {
    "collapsed": false,
    "pycharm": {
     "name": "#%%\n"
    }
   }
  },
  {
   "cell_type": "code",
   "execution_count": 137,
   "outputs": [],
   "source": [
    "# initialize the StandardScaler object\n",
    "scaler = StandardScaler()\n",
    "\n",
    "# fit and transform the data\n",
    "X_train_scaled = scaler.fit_transform(X_train)\n",
    "X_test_scaled = scaler.transform(X_test)"
   ],
   "metadata": {
    "collapsed": false,
    "pycharm": {
     "name": "#%%\n"
    }
   }
  },
  {
   "cell_type": "code",
   "execution_count": 138,
   "outputs": [
    {
     "name": "stdout",
     "output_type": "stream",
     "text": [
      "length of X_train_scaled: 2486\n",
      "length of y_train: 2486\n",
      "length of X_test_scaled: 622\n",
      "length of y_test: 622\n"
     ]
    }
   ],
   "source": [
    "print(\"length of X_train_scaled:\", len(X_train_scaled))\n",
    "print(\"length of y_train:\", len(y_train))\n",
    "print(\"length of X_test_scaled:\", len(X_test_scaled))\n",
    "print(\"length of y_test:\", len(y_test))"
   ],
   "metadata": {
    "collapsed": false,
    "pycharm": {
     "name": "#%%\n"
    }
   }
  },
  {
   "cell_type": "code",
   "execution_count": 139,
   "outputs": [
    {
     "name": "stdout",
     "output_type": "stream",
     "text": [
      "Mean squared error: 0.22494036422180633\n",
      "R-squared: 0.06696588657739463\n"
     ]
    }
   ],
   "source": [
    "from sklearn.linear_model import LinearRegression\n",
    "from sklearn.metrics import mean_squared_error, r2_score\n",
    "\n",
    "# initialize and fit the linear regression model\n",
    "model = LinearRegression()\n",
    "model.fit(X_train_scaled, y_train)\n",
    "\n",
    "# make predictions on the testing set\n",
    "y_pred = model.predict(X_test_scaled)\n",
    "\n",
    "# evaluate the model using mean squared error and R-squared\n",
    "mse = mean_squared_error(y_test, y_pred)\n",
    "r2 = r2_score(y_test, y_pred)\n",
    "\n",
    "print(\"Mean squared error:\", mse)\n",
    "print(\"R-squared:\", r2)"
   ],
   "metadata": {
    "collapsed": false,
    "pycharm": {
     "name": "#%%\n"
    }
   }
  },
  {
   "cell_type": "code",
   "execution_count": 139,
   "outputs": [],
   "source": [],
   "metadata": {
    "collapsed": false,
    "pycharm": {
     "name": "#%%\n"
    }
   }
  }
 ],
 "metadata": {
  "kernelspec": {
   "display_name": "Python 3",
   "language": "python",
   "name": "python3"
  },
  "language_info": {
   "codemirror_mode": {
    "name": "ipython",
    "version": 2
   },
   "file_extension": ".py",
   "mimetype": "text/x-python",
   "name": "python",
   "nbconvert_exporter": "python",
   "pygments_lexer": "ipython2",
   "version": "2.7.6"
  }
 },
 "nbformat": 4,
 "nbformat_minor": 0
}